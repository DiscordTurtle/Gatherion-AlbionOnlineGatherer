{
 "cells": [
  {
   "cell_type": "code",
   "execution_count": 1,
   "metadata": {},
   "outputs": [
    {
     "name": "stderr",
     "output_type": "stream",
     "text": [
      "\u001b[1;38;5;214mCOMET WARNING:\u001b[0m As you are running in a Jupyter environment, you will need to call `experiment.end()` when finished to ensure all metrics and code are logged before exiting.\n",
      "\u001b[1;38;5;39mCOMET INFO:\u001b[0m Experiment is live on comet.com https://www.comet.com/discordturtle/general/4965cda0c24545f496165ef9481b6a9a\n",
      "\n"
     ]
    }
   ],
   "source": [
    "from comet_ml import Experiment\n",
    "from comet_ml.integration.pytorch import log_model\n",
    "\n",
    "experiment = Experiment(\n",
    "  api_key=\"WpEjZ0ITHIH0hcF9BOxCMT3rH\",\n",
    "  project_name=\"general\",\n",
    "  workspace=\"discordturtle\"\n",
    ")"
   ]
  },
  {
   "cell_type": "code",
   "execution_count": null,
   "metadata": {},
   "outputs": [],
   "source": [
    "# Report multiple hyperparameters using a dictionary:\n",
    "hyper_params = {\n",
    "   \"learning_rate\": 0.5,\n",
    "   \"steps\": 100000,\n",
    "   \"batch_size\": 50,\n",
    "}\n",
    "experiment.log_parameters(hyper_params)\n",
    "\n",
    "# Initialize and train your model\n",
    "# model = TheModelClass()\n",
    "# train(model)\n",
    "\n",
    "# Seamlessly log your Pytorch model\n",
    "log_model(experiment, model=model, model_name=\"TheModel\")"
   ]
  }
 ],
 "metadata": {
  "kernelspec": {
   "display_name": "Python 3",
   "language": "python",
   "name": "python3"
  },
  "language_info": {
   "codemirror_mode": {
    "name": "ipython",
    "version": 3
   },
   "file_extension": ".py",
   "mimetype": "text/x-python",
   "name": "python",
   "nbconvert_exporter": "python",
   "pygments_lexer": "ipython3",
   "version": "3.10.11"
  }
 },
 "nbformat": 4,
 "nbformat_minor": 2
}
